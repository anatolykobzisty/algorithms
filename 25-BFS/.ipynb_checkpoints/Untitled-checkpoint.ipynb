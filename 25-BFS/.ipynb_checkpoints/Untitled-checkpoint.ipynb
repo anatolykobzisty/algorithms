{
 "cells": [
  {
   "cell_type": "code",
   "execution_count": 2,
   "metadata": {},
   "outputs": [
    {
     "name": "stdout",
     "output_type": "stream",
     "text": [
      "15 16\n"
     ]
    }
   ],
   "source": [
    "N, M = map(int, input().split())"
   ]
  },
  {
   "cell_type": "code",
   "execution_count": 3,
   "metadata": {},
   "outputs": [
    {
     "data": {
      "text/plain": [
       "(15, 16)"
      ]
     },
     "execution_count": 3,
     "metadata": {},
     "output_type": "execute_result"
    }
   ],
   "source": [
    "N, M"
   ]
  },
  {
   "cell_type": "code",
   "execution_count": 5,
   "metadata": {},
   "outputs": [
    {
     "name": "stdout",
     "output_type": "stream",
     "text": [
      "0 1 \n",
      "0 12\n",
      "0 11\n",
      "0 10\n",
      "1 6\n",
      "1 7\n",
      "3 11\n",
      "4 10\n",
      "5 8\n",
      "5 13\n",
      "6 10\n",
      "7 13\n",
      "8 12\n",
      "9 11\n",
      "11 12\n",
      "11 14\n"
     ]
    }
   ],
   "source": [
    "graph = {i: set() for i in range(N)}\n",
    "for i in range(M):\n",
    "    v1, v2 = map(int, input().split())\n",
    "    graph[v1].add(v2)\n",
    "    graph[v2].add(v1)"
   ]
  },
  {
   "cell_type": "code",
   "execution_count": 13,
   "metadata": {},
   "outputs": [],
   "source": [
    "from collections import deque \n",
    "distances = [None] * N\n",
    "start_vertex = 0\n",
    "distances[start_vertex] = 0\n",
    "queue = deque([start_vertex])\n",
    "\n",
    "while queue:\n",
    "    cur_v = queue.popleft()\n",
    "    for neigh_v in graph(cur_v):\n",
    "        if distances[neigh_v] is None:\n",
    "            distances[neigh_v] = distances[cur_v] + 1\n",
    "            queue.append(neigh_v)\n",
    "print(distances)"
   ]
  },
  {
   "cell_type": "code",
   "execution_count": 14,
   "metadata": {},
   "outputs": [
    {
     "data": {
      "text/plain": [
       "{0: {1, 10, 11, 12},\n",
       " 1: {0, 6, 7},\n",
       " 2: set(),\n",
       " 3: {11},\n",
       " 4: {10},\n",
       " 5: {8, 13},\n",
       " 6: {1, 10},\n",
       " 7: {1, 13},\n",
       " 8: {5, 12},\n",
       " 9: {11},\n",
       " 10: {0, 4, 6},\n",
       " 11: {0, 3, 9, 12, 14},\n",
       " 12: {0, 8, 11},\n",
       " 13: {5, 7},\n",
       " 14: {11}}"
      ]
     },
     "execution_count": 14,
     "metadata": {},
     "output_type": "execute_result"
    }
   ],
   "source": [
    "graph"
   ]
  },
  {
   "cell_type": "code",
   "execution_count": null,
   "metadata": {},
   "outputs": [],
   "source": []
  }
 ],
 "metadata": {
  "kernelspec": {
   "display_name": "Python 3",
   "language": "python",
   "name": "python3"
  }
 },
 "nbformat": 4,
 "nbformat_minor": 2
}
